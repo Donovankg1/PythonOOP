{
 "cells": [
  {
   "cell_type": "code",
   "execution_count": null,
   "metadata": {},
   "outputs": [],
   "source": [
    "# Object Oriented Programming\n",
    "# The main focus is an object to which you can assign data. i.e methods(functions) and properties(variables that store data)\n",
    "\n",
    "#how is it useful; code is a lot more manageable, it can be split into smaller pieces and can restrict from sharing data with other functions\n",
    "# helps cut down recurring variables\n",
    "\n",
    "#if you have an object you can replace it's inherant properties if needed without repeating code\n",
    "\n",
    "# what are classes; these are a blueprint of objects used to create objects\n",
    "# inheritance can be used to pass on properties and methods from another class. \n",
    "\n"
   ]
  },
  {
   "cell_type": "code",
   "execution_count": null,
   "metadata": {},
   "outputs": [],
   "source": [
    "#car >> methods -- reverse() -- foreward()\n",
    "##car >> properties -- miles -- fuel -- color -- make"
   ]
  },
  {
   "cell_type": "code",
   "execution_count": 15,
   "metadata": {},
   "outputs": [
    {
     "name": "stdout",
     "output_type": "stream",
     "text": [
      "All data is saved\n",
      "All data is saved\n"
     ]
    }
   ],
   "source": [
    "# Lets create a class called Person that we will later assinged to a variable, turning it into an object\n",
    "class Person(): #this can be also be 'Car'\n",
    "    def __init__(self, name, age, gender): #best practice is to use initialiser that will attach the variable\n",
    "        self.name = name\n",
    "        self.age = age\n",
    "        self.gender = gender\n",
    "        print(\"All data is saved\")\n",
    "        \n",
    "    def show_details(self):\n",
    "        print(\"Personal Details :\")\n",
    "        print('Name :', self.name)\n",
    "        print('Age :', self.age)\n",
    "        print('Gender ;', self.gender)\n",
    "        \n",
    "    def show_age(self):\n",
    "        print('Age :')\n",
    "        print(self.age ,'Years old')\n",
    "        \n",
    "#Lets create the variable \n",
    "\n",
    "donovan = Person('donovan', '34', 'male')\n",
    "dionne = Person('dionne', '32', 'female')\n",
    "\n",
    "# first class is person second class is student\n",
    "\n"
   ]
  },
  {
   "cell_type": "code",
   "execution_count": 4,
   "metadata": {},
   "outputs": [
    {
     "data": {
      "text/plain": [
       "'34'"
      ]
     },
     "execution_count": 4,
     "metadata": {},
     "output_type": "execute_result"
    }
   ],
   "source": [
    "# When data saved, the donovan variable we created above, was assigned the properties of the class (the initi function replaced 'self' with 'donovan')\n",
    "\n",
    "donovan.name\n",
    "donovan.age"
   ]
  },
  {
   "cell_type": "code",
   "execution_count": 16,
   "metadata": {},
   "outputs": [
    {
     "name": "stdout",
     "output_type": "stream",
     "text": [
      "Personal Details :\n",
      "Name : dionne\n",
      "Age : 32\n",
      "Gender ; female\n"
     ]
    }
   ],
   "source": [
    "dionne.show_details()"
   ]
  },
  {
   "cell_type": "code",
   "execution_count": 14,
   "metadata": {},
   "outputs": [
    {
     "name": "stdout",
     "output_type": "stream",
     "text": [
      "Age :\n",
      "34 Years old\n"
     ]
    }
   ],
   "source": [
    "donovan.show_age()"
   ]
  },
  {
   "cell_type": "code",
   "execution_count": 18,
   "metadata": {},
   "outputs": [],
   "source": [
    "# Lets create a second class called Student, it'll inherit the properties of class Person + yearofgrad\n",
    "\n",
    "class Student(Person):\n",
    "    def __init__(self, name, age, gender, yearofgrad):\n",
    "        super(). __init__(name, age, gender) #super tells the machine to copy from person all properties\n",
    "        self.yearofgrad = yearofgrad # here we create the new property yearofgrad \n",
    "        \n",
    "    def show_grad_date(self):\n",
    "        self.show_details()\n",
    "        print('Year of Graduation :', self.yearofgrad)\n"
   ]
  },
  {
   "cell_type": "code",
   "execution_count": 19,
   "metadata": {},
   "outputs": [
    {
     "name": "stdout",
     "output_type": "stream",
     "text": [
      "All data is saved\n"
     ]
    }
   ],
   "source": [
    "# we create a variable dionne and instead of attaching it to class Person, we use Student because we would need to know yearofgrad\n",
    "\n",
    "dionne = Student('dionne', '32', 'female', 2022)"
   ]
  },
  {
   "cell_type": "code",
   "execution_count": 20,
   "metadata": {},
   "outputs": [
    {
     "name": "stdout",
     "output_type": "stream",
     "text": [
      "Personal Details :\n",
      "Name : dionne\n",
      "Age : 32\n",
      "Gender ; female\n",
      "Year of Graduations : 2022\n"
     ]
    }
   ],
   "source": [
    "dionne.show_grad_date()"
   ]
  },
  {
   "cell_type": "code",
   "execution_count": 31,
   "metadata": {},
   "outputs": [],
   "source": [
    "# Lets add one more class called Teacher\n",
    "\n",
    "class Teacher(Person):\n",
    "    def __init__(self, name, age,gender, tenure):\n",
    "        super().__init__(name, age, gender)\n",
    "        self.tenure = tenure\n",
    "        \n",
    "    def show_tenure(self): #a new function that we can use to learn about the teacher class tenure\n",
    "        self.show_details()\n",
    "        print(self.tenure, 'Years of teaching')"
   ]
  },
  {
   "cell_type": "code",
   "execution_count": 32,
   "metadata": {},
   "outputs": [
    {
     "name": "stdout",
     "output_type": "stream",
     "text": [
      "All data is saved\n",
      "Personal Details :\n",
      "Name : fortune\n",
      "Age : 50\n",
      "Gender ; male\n",
      "23 Years of teaching\n"
     ]
    }
   ],
   "source": [
    "# teacher variable\n",
    "fortune = Teacher('fortune', '50', 'male', '23')\n",
    "\n",
    "fortune.show_tenure()"
   ]
  },
  {
   "cell_type": "code",
   "execution_count": null,
   "metadata": {},
   "outputs": [],
   "source": []
  }
 ],
 "metadata": {
  "kernelspec": {
   "display_name": "Python 3",
   "language": "python",
   "name": "python3"
  },
  "language_info": {
   "codemirror_mode": {
    "name": "ipython",
    "version": 3
   },
   "file_extension": ".py",
   "mimetype": "text/x-python",
   "name": "python",
   "nbconvert_exporter": "python",
   "pygments_lexer": "ipython3",
   "version": "3.7.4"
  }
 },
 "nbformat": 4,
 "nbformat_minor": 2
}
